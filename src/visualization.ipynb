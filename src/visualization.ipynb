{
 "cells": [
  {
   "cell_type": "markdown",
   "metadata": {},
   "source": [
    "# MusicXML Visualization\n",
    "\n",
    "This notebook is phase two of this project, attempting to take what I've learned\n",
    "about gathering data and visualize it."
   ]
  },
  {
   "cell_type": "markdown",
   "metadata": {},
   "source": [
    "## Prep"
   ]
  },
  {
   "cell_type": "markdown",
   "metadata": {},
   "source": [
    "### Imports"
   ]
  },
  {
   "cell_type": "code",
   "execution_count": 1,
   "metadata": {},
   "outputs": [],
   "source": [
    "# imports and constants\n",
    "import music21\n",
    "from pprint import pprint\n",
    "from difficulty import *\n",
    "from type21 import *\n",
    "import warnings\n",
    "import os\n",
    "import numpy as np\n",
    "import pandas as pd"
   ]
  },
  {
   "cell_type": "markdown",
   "metadata": {},
   "source": [
    "### Parse MusicXML File"
   ]
  },
  {
   "cell_type": "code",
   "execution_count": 2,
   "metadata": {},
   "outputs": [],
   "source": [
    "score = music21.converter.parse(\"../music/xml/musicalion/beethoven_egmont.musicxml\")"
   ]
  },
  {
   "cell_type": "markdown",
   "metadata": {},
   "source": [
    "## Extraction and Organization"
   ]
  },
  {
   "cell_type": "code",
   "execution_count": 3,
   "metadata": {},
   "outputs": [
    {
     "name": "stdout",
     "output_type": "stream",
     "text": [
      "<music21.text.TextBox 'Seite #'>\n",
      "<music21.metadata.Metadata object at 0x7fa37d1c5e80>\n",
      "<music21.layout.ScoreLayout>\n",
      "<music21.layout.StaffGroup <music21.stream.PartStaff P1-Staff1><music21.stream.PartStaff P1-Staff2>>\n",
      "<music21.layout.StaffGroup <music21.stream.PartStaff P5-Staff1><music21.stream.PartStaff P5-Staff2>>\n",
      "<music21.layout.StaffGroup <music21.stream.PartStaff P8-Staff1><music21.stream.PartStaff P8-Staff2>>\n",
      "<music21.layout.StaffGroup <music21.stream.PartStaff P10-Staff1><music21.stream.PartStaff P10-Staff2>>\n",
      "<music21.layout.StaffGroup <music21.stream.PartStaff P1-Staff1><music21.stream.PartStaff P1-Staff2><music21.stream.Part 2 Oboi><music21.stream.Part 2 Clarinetti in B><music21.stream.Part 2 Fagotti>>\n",
      "<music21.layout.StaffGroup <music21.stream.PartStaff P5-Staff1><music21.stream.PartStaff P5-Staff2><music21.stream.Part 2 Trombe in F><music21.stream.Part TImpani in F, c>>\n",
      "<music21.layout.StaffGroup <music21.stream.PartStaff P8-Staff1><music21.stream.PartStaff P8-Staff2><music21.stream.Part Viola><music21.stream.PartStaff P10-Staff1><music21.stream.PartStaff P10-Staff2>>\n"
     ]
    }
   ],
   "source": [
    "currTempo = None\n",
    "score_list = []\n",
    "\n",
    "for part in score:\n",
    "    try:\n",
    "        instrument = part.getInstrument().instrumentName\n",
    "    except:\n",
    "        print(part)\n",
    "        continue\n",
    "    record_in_data_frame = True\n",
    "    for element in part.recurse():\n",
    "        # define items to be added to the data frame\n",
    "        note_start = None\n",
    "        note_end = None\n",
    "        pitch = None\n",
    "        volume = None\n",
    "        tempo = None\n",
    "        note_type = None\n",
    "\n",
    "        if isChord(element):\n",
    "            for note in element:\n",
    "                note_start = note.offset\n",
    "                note_end = note.offset + note.quarterLength\n",
    "                pitch = note.pitch.ps\n",
    "                volume = note.volume.realized\n",
    "                tempo = currTempo\n",
    "                note_type = type(note)\n",
    "        elif isNote(element):\n",
    "            note_start = element.offset\n",
    "            note_end = element.offset + element.quarterLength\n",
    "            pitch = element.pitch.ps\n",
    "            volume = element.volume.realized\n",
    "            note_type = type(element)\n",
    "        elif type(element) == music21.tempo.MetronomeMark:\n",
    "            record_in_data_frame = False\n",
    "            currTempo = element.number\n",
    "        elif isRest(element):\n",
    "            note_start = element.offset\n",
    "            note_end = element.offset + element.quarterLength\n",
    "            note_type = type(element)\n",
    "        if record_in_data_frame:\n",
    "            score_list.append([note_start, note_end, pitch, volume, currTempo, note_type, instrument])\n"
   ]
  },
  {
   "cell_type": "code",
   "execution_count": 5,
   "metadata": {},
   "outputs": [
    {
     "data": {
      "text/html": [
       "<div>\n",
       "<style scoped>\n",
       "    .dataframe tbody tr th:only-of-type {\n",
       "        vertical-align: middle;\n",
       "    }\n",
       "\n",
       "    .dataframe tbody tr th {\n",
       "        vertical-align: top;\n",
       "    }\n",
       "\n",
       "    .dataframe thead th {\n",
       "        text-align: right;\n",
       "    }\n",
       "</style>\n",
       "<table border=\"1\" class=\"dataframe\">\n",
       "  <thead>\n",
       "    <tr style=\"text-align: right;\">\n",
       "      <th></th>\n",
       "      <th>note_start</th>\n",
       "      <th>note_end</th>\n",
       "      <th>pitch</th>\n",
       "      <th>volume</th>\n",
       "      <th>tempo</th>\n",
       "      <th>note_type</th>\n",
       "      <th>instrument</th>\n",
       "    </tr>\n",
       "  </thead>\n",
       "  <tbody>\n",
       "    <tr>\n",
       "      <th>0</th>\n",
       "      <td>None</td>\n",
       "      <td>None</td>\n",
       "      <td>NaN</td>\n",
       "      <td>NaN</td>\n",
       "      <td>None</td>\n",
       "      <td>None</td>\n",
       "      <td>Midi_74</td>\n",
       "    </tr>\n",
       "    <tr>\n",
       "      <th>1</th>\n",
       "      <td>None</td>\n",
       "      <td>None</td>\n",
       "      <td>NaN</td>\n",
       "      <td>NaN</td>\n",
       "      <td>None</td>\n",
       "      <td>None</td>\n",
       "      <td>Midi_74</td>\n",
       "    </tr>\n",
       "    <tr>\n",
       "      <th>2</th>\n",
       "      <td>None</td>\n",
       "      <td>None</td>\n",
       "      <td>NaN</td>\n",
       "      <td>NaN</td>\n",
       "      <td>None</td>\n",
       "      <td>None</td>\n",
       "      <td>Midi_74</td>\n",
       "    </tr>\n",
       "    <tr>\n",
       "      <th>3</th>\n",
       "      <td>None</td>\n",
       "      <td>None</td>\n",
       "      <td>NaN</td>\n",
       "      <td>NaN</td>\n",
       "      <td>None</td>\n",
       "      <td>None</td>\n",
       "      <td>Midi_74</td>\n",
       "    </tr>\n",
       "    <tr>\n",
       "      <th>4</th>\n",
       "      <td>None</td>\n",
       "      <td>None</td>\n",
       "      <td>NaN</td>\n",
       "      <td>NaN</td>\n",
       "      <td>None</td>\n",
       "      <td>None</td>\n",
       "      <td>Midi_74</td>\n",
       "    </tr>\n",
       "    <tr>\n",
       "      <th>...</th>\n",
       "      <td>...</td>\n",
       "      <td>...</td>\n",
       "      <td>...</td>\n",
       "      <td>...</td>\n",
       "      <td>...</td>\n",
       "      <td>...</td>\n",
       "      <td>...</td>\n",
       "    </tr>\n",
       "    <tr>\n",
       "      <th>25390</th>\n",
       "      <td>None</td>\n",
       "      <td>None</td>\n",
       "      <td>NaN</td>\n",
       "      <td>NaN</td>\n",
       "      <td>None</td>\n",
       "      <td>None</td>\n",
       "      <td>Midi_43</td>\n",
       "    </tr>\n",
       "    <tr>\n",
       "      <th>25391</th>\n",
       "      <td>0.0</td>\n",
       "      <td>1.0</td>\n",
       "      <td>41.0</td>\n",
       "      <td>1.0</td>\n",
       "      <td>None</td>\n",
       "      <td>&lt;class 'music21.note.Note'&gt;</td>\n",
       "      <td>Midi_43</td>\n",
       "    </tr>\n",
       "    <tr>\n",
       "      <th>25392</th>\n",
       "      <td>1.0</td>\n",
       "      <td>2.0</td>\n",
       "      <td>NaN</td>\n",
       "      <td>NaN</td>\n",
       "      <td>None</td>\n",
       "      <td>&lt;class 'music21.note.Rest'&gt;</td>\n",
       "      <td>Midi_43</td>\n",
       "    </tr>\n",
       "    <tr>\n",
       "      <th>25393</th>\n",
       "      <td>2.0</td>\n",
       "      <td>4.0</td>\n",
       "      <td>NaN</td>\n",
       "      <td>NaN</td>\n",
       "      <td>None</td>\n",
       "      <td>&lt;class 'music21.note.Rest'&gt;</td>\n",
       "      <td>Midi_43</td>\n",
       "    </tr>\n",
       "    <tr>\n",
       "      <th>25394</th>\n",
       "      <td>None</td>\n",
       "      <td>None</td>\n",
       "      <td>NaN</td>\n",
       "      <td>NaN</td>\n",
       "      <td>None</td>\n",
       "      <td>None</td>\n",
       "      <td>Midi_43</td>\n",
       "    </tr>\n",
       "  </tbody>\n",
       "</table>\n",
       "<p>25395 rows × 7 columns</p>\n",
       "</div>"
      ],
      "text/plain": [
       "      note_start note_end  pitch  volume tempo                    note_type  \\\n",
       "0           None     None    NaN     NaN  None                         None   \n",
       "1           None     None    NaN     NaN  None                         None   \n",
       "2           None     None    NaN     NaN  None                         None   \n",
       "3           None     None    NaN     NaN  None                         None   \n",
       "4           None     None    NaN     NaN  None                         None   \n",
       "...          ...      ...    ...     ...   ...                          ...   \n",
       "25390       None     None    NaN     NaN  None                         None   \n",
       "25391        0.0      1.0   41.0     1.0  None  <class 'music21.note.Note'>   \n",
       "25392        1.0      2.0    NaN     NaN  None  <class 'music21.note.Rest'>   \n",
       "25393        2.0      4.0    NaN     NaN  None  <class 'music21.note.Rest'>   \n",
       "25394       None     None    NaN     NaN  None                         None   \n",
       "\n",
       "      instrument  \n",
       "0        Midi_74  \n",
       "1        Midi_74  \n",
       "2        Midi_74  \n",
       "3        Midi_74  \n",
       "4        Midi_74  \n",
       "...          ...  \n",
       "25390    Midi_43  \n",
       "25391    Midi_43  \n",
       "25392    Midi_43  \n",
       "25393    Midi_43  \n",
       "25394    Midi_43  \n",
       "\n",
       "[25395 rows x 7 columns]"
      ]
     },
     "execution_count": 5,
     "metadata": {},
     "output_type": "execute_result"
    }
   ],
   "source": [
    "df = pd.DataFrame(score_list, columns=['note_start', 'note_end', 'pitch', 'volume', 'tempo', 'note_type', 'instrument'])\n",
    "df"
   ]
  },
  {
   "cell_type": "code",
   "execution_count": null,
   "metadata": {},
   "outputs": [],
   "source": [
    "df1 = df[df['instrument'] == 'Midi_71']\n",
    "df1.plot(x=\"note_start\", figsize=(20, 20), subplots=True)"
   ]
  }
 ],
 "metadata": {
  "kernelspec": {
   "display_name": "Python 3.8.10 ('IW')",
   "language": "python",
   "name": "python3"
  },
  "language_info": {
   "codemirror_mode": {
    "name": "ipython",
    "version": 3
   },
   "file_extension": ".py",
   "mimetype": "text/x-python",
   "name": "python",
   "nbconvert_exporter": "python",
   "pygments_lexer": "ipython3",
   "version": "3.8.10"
  },
  "orig_nbformat": 4,
  "vscode": {
   "interpreter": {
    "hash": "70429761e44c28a9945b68adb1c5f17ad23b6bc91f93bce4fb1a18e6cfb62405"
   }
  }
 },
 "nbformat": 4,
 "nbformat_minor": 2
}
