{
 "cells": [
  {
   "cell_type": "markdown",
   "metadata": {},
   "source": [
    "# MusicXML Exploration with Music21\n",
    "The following code attempts to understand and make notes about how .mxl and .xml files work with Music21."
   ]
  },
  {
   "cell_type": "code",
   "execution_count": 1,
   "metadata": {},
   "outputs": [],
   "source": [
    "# imports and constants\n",
    "import music21\n",
    "from pprint import pprint\n",
    "from difficulty import *\n",
    "import warnings\n",
    "import os"
   ]
  },
  {
   "cell_type": "code",
   "execution_count": 34,
   "metadata": {},
   "outputs": [
    {
     "name": "stderr",
     "output_type": "stream",
     "text": [
      "musicxml.xmlToM21: WARNING: Line <bracket> stop without start\n",
      "musicxml.xmlToM21: WARNING: Line <bracket> stop without start\n",
      "musicxml.xmlToM21: WARNING: Cannot find voice '2'; putting outside of voices.\n",
      "musicxml.xmlToM21: WARNING: Current voiceIds: ['1', '3']\n",
      "musicxml.xmlToM21: WARNING: Current voices: [<music21.stream.Voice 1>, <music21.stream.Voice 3>] in m. 324\n",
      "musicxml.xmlToM21: WARNING: Cannot find voice '2'; putting outside of voices.\n",
      "musicxml.xmlToM21: WARNING: Current voiceIds: ['1', '3']\n",
      "musicxml.xmlToM21: WARNING: Current voices: [<music21.stream.Voice 1>, <music21.stream.Voice 3>] in m. 325\n",
      "musicxml.xmlToM21: WARNING: Cannot find voice '2'; putting outside of voices.\n",
      "musicxml.xmlToM21: WARNING: Current voiceIds: ['1', '3']\n",
      "musicxml.xmlToM21: WARNING: Current voices: [<music21.stream.Voice 1>, <music21.stream.Voice 3>] in m. 326\n",
      "musicxml.xmlToM21: WARNING: Line <bracket> stop without start\n",
      "musicxml.xmlToM21: WARNING: Line <bracket> stop without start\n",
      "musicxml.xmlToM21: WARNING: Line <bracket> stop without start\n",
      "musicxml.xmlToM21: WARNING: Line <bracket> stop without start\n"
     ]
    }
   ],
   "source": [
    "# score = music21.converter.parse(\"../music/Beethoven_Symphony_9__Op._125.mxl\")\n",
    "\n",
    "# This used to break, reporting the error:\n",
    "# MusicXMLImportException: In part (Flauto piccolo), measure (959): found unknown MusicXML type: None\n",
    "# Then I opened the file in MuseScore, had it ignore the issue, and exported it back out to .mxl, and overwrote the original\n",
    "# Now, it works but takes FOREVER (generally more than 4 min)\n",
    "# Additionally, it seems like \n",
    "# score = music21.converter.parse(\"../music/xml/Beethoven_Symphony_9__Op._125.mxl\")\n",
    "\n",
    "\n",
    "# score = music21.converter.parse(\"../music/xml/Beethoven_Symphony_No._5_Op.67_Mvt._1.mscz.mxl\")\n",
    "# score = music21.converter.parse(\"../music/xml/Holst__The_Planets__Op._32.mxl\")\n",
    "score = music21.converter.parse(\"../music/xml/beethoven_egmont.musicxml\")"
   ]
  },
  {
   "cell_type": "code",
   "execution_count": 2,
   "metadata": {},
   "outputs": [
    {
     "name": "stdout",
     "output_type": "stream",
     "text": [
      "../music/xml/musicalion/mozart_concerto_piano_20_mvt_2.xml\n"
     ]
    },
    {
     "name": "stderr",
     "output_type": "stream",
     "text": [
      "/Users/taylorakin/.virtualenvs/IW/lib/python3.8/site-packages/music21/musicxml/xmlToM21.py:4592: MusicXMLWarning: Cannot find voice '2'; putting outside of voices.\n",
      "  warnings.warn(\n",
      "/Users/taylorakin/.virtualenvs/IW/lib/python3.8/site-packages/music21/musicxml/xmlToM21.py:4595: MusicXMLWarning: Current voiceIds: ['1', '3', '4']\n",
      "  warnings.warn(\n",
      "/Users/taylorakin/.virtualenvs/IW/lib/python3.8/site-packages/music21/musicxml/xmlToM21.py:4598: MusicXMLWarning: Current voices: [<music21.stream.Voice 1>, <music21.stream.Voice 3>, <music21.stream.Voice 4>] in m. 5\n",
      "  warnings.warn(\n",
      "/Users/taylorakin/.virtualenvs/IW/lib/python3.8/site-packages/music21/musicxml/xmlToM21.py:4598: MusicXMLWarning: Current voices: [<music21.stream.Voice 1>, <music21.stream.Voice 3>, <music21.stream.Voice 4>] in m. 6\n",
      "  warnings.warn(\n",
      "/Users/taylorakin/.virtualenvs/IW/lib/python3.8/site-packages/music21/musicxml/xmlToM21.py:4598: MusicXMLWarning: Current voices: [<music21.stream.Voice 1>, <music21.stream.Voice 3>, <music21.stream.Voice 4>] in m. 7\n",
      "  warnings.warn(\n",
      "/Users/taylorakin/.virtualenvs/IW/lib/python3.8/site-packages/music21/musicxml/xmlToM21.py:4592: MusicXMLWarning: Cannot find voice '4'; putting outside of voices.\n",
      "  warnings.warn(\n",
      "/Users/taylorakin/.virtualenvs/IW/lib/python3.8/site-packages/music21/musicxml/xmlToM21.py:4595: MusicXMLWarning: Current voiceIds: ['1', '2', '3']\n",
      "  warnings.warn(\n",
      "/Users/taylorakin/.virtualenvs/IW/lib/python3.8/site-packages/music21/musicxml/xmlToM21.py:4598: MusicXMLWarning: Current voices: [<music21.stream.Voice 1>, <music21.stream.Voice 2>, <music21.stream.Voice 3>] in m. 8\n",
      "  warnings.warn(\n",
      "/Users/taylorakin/.virtualenvs/IW/lib/python3.8/site-packages/music21/musicxml/xmlToM21.py:4592: MusicXMLWarning: Cannot find voice '3'; putting outside of voices.\n",
      "  warnings.warn(\n",
      "/Users/taylorakin/.virtualenvs/IW/lib/python3.8/site-packages/music21/musicxml/xmlToM21.py:4595: MusicXMLWarning: Current voiceIds: ['1', '2', '4', '5']\n",
      "  warnings.warn(\n",
      "/Users/taylorakin/.virtualenvs/IW/lib/python3.8/site-packages/music21/musicxml/xmlToM21.py:4598: MusicXMLWarning: Current voices: [<music21.stream.Voice 1>, <music21.stream.Voice 2>, <music21.stream.Voice 4>, <music21.stream.Voice 5>] in m. 17\n",
      "  warnings.warn(\n",
      "/Users/taylorakin/.virtualenvs/IW/lib/python3.8/site-packages/music21/musicxml/xmlToM21.py:4598: MusicXMLWarning: Current voices: [<music21.stream.Voice 1>, <music21.stream.Voice 2>, <music21.stream.Voice 4>, <music21.stream.Voice 5>] in m. 18\n",
      "  warnings.warn(\n",
      "/Users/taylorakin/.virtualenvs/IW/lib/python3.8/site-packages/music21/musicxml/xmlToM21.py:4598: MusicXMLWarning: Current voices: [<music21.stream.Voice 1>, <music21.stream.Voice 2>, <music21.stream.Voice 4>, <music21.stream.Voice 5>] in m. 19\n",
      "  warnings.warn(\n",
      "/Users/taylorakin/.virtualenvs/IW/lib/python3.8/site-packages/music21/musicxml/xmlToM21.py:4598: MusicXMLWarning: Current voices: [<music21.stream.Voice 1>, <music21.stream.Voice 2>, <music21.stream.Voice 4>, <music21.stream.Voice 5>] in m. 20\n",
      "  warnings.warn(\n",
      "/Users/taylorakin/.virtualenvs/IW/lib/python3.8/site-packages/music21/musicxml/xmlToM21.py:4598: MusicXMLWarning: Current voices: [<music21.stream.Voice 1>, <music21.stream.Voice 3>, <music21.stream.Voice 4>] in m. 21\n",
      "  warnings.warn(\n",
      "/Users/taylorakin/.virtualenvs/IW/lib/python3.8/site-packages/music21/musicxml/xmlToM21.py:4598: MusicXMLWarning: Current voices: [<music21.stream.Voice 1>, <music21.stream.Voice 3>, <music21.stream.Voice 4>] in m. 22\n",
      "  warnings.warn(\n",
      "/Users/taylorakin/.virtualenvs/IW/lib/python3.8/site-packages/music21/musicxml/xmlToM21.py:4598: MusicXMLWarning: Current voices: [<music21.stream.Voice 1>, <music21.stream.Voice 3>, <music21.stream.Voice 4>] in m. 23\n",
      "  warnings.warn(\n",
      "/Users/taylorakin/.virtualenvs/IW/lib/python3.8/site-packages/music21/musicxml/xmlToM21.py:4598: MusicXMLWarning: Current voices: [<music21.stream.Voice 1>, <music21.stream.Voice 2>, <music21.stream.Voice 3>] in m. 24\n",
      "  warnings.warn(\n",
      "/Users/taylorakin/.virtualenvs/IW/lib/python3.8/site-packages/music21/musicxml/xmlToM21.py:4598: MusicXMLWarning: Current voices: [<music21.stream.Voice 1>, <music21.stream.Voice 3>, <music21.stream.Voice 4>] in m. 72\n",
      "  warnings.warn(\n",
      "/Users/taylorakin/.virtualenvs/IW/lib/python3.8/site-packages/music21/musicxml/xmlToM21.py:4598: MusicXMLWarning: Current voices: [<music21.stream.Voice 1>, <music21.stream.Voice 3>, <music21.stream.Voice 4>] in m. 73\n",
      "  warnings.warn(\n",
      "/Users/taylorakin/.virtualenvs/IW/lib/python3.8/site-packages/music21/musicxml/xmlToM21.py:4598: MusicXMLWarning: Current voices: [<music21.stream.Voice 1>, <music21.stream.Voice 3>, <music21.stream.Voice 4>] in m. 74\n",
      "  warnings.warn(\n",
      "/Users/taylorakin/.virtualenvs/IW/lib/python3.8/site-packages/music21/musicxml/xmlToM21.py:4598: MusicXMLWarning: Current voices: [<music21.stream.Voice 1>, <music21.stream.Voice 2>, <music21.stream.Voice 3>] in m. 75\n",
      "  warnings.warn(\n",
      "/Users/taylorakin/.virtualenvs/IW/lib/python3.8/site-packages/music21/musicxml/xmlToM21.py:4592: MusicXMLWarning: Cannot find voice '1'; putting outside of voices.\n",
      "  warnings.warn(\n",
      "/Users/taylorakin/.virtualenvs/IW/lib/python3.8/site-packages/music21/musicxml/xmlToM21.py:4595: MusicXMLWarning: Current voiceIds: ['2', '3']\n",
      "  warnings.warn(\n",
      "/Users/taylorakin/.virtualenvs/IW/lib/python3.8/site-packages/music21/musicxml/xmlToM21.py:4598: MusicXMLWarning: Current voices: [<music21.stream.Voice 2>, <music21.stream.Voice 3>] in m. 91\n",
      "  warnings.warn(\n",
      "/Users/taylorakin/.virtualenvs/IW/lib/python3.8/site-packages/music21/musicxml/xmlToM21.py:4598: MusicXMLWarning: Current voices: [<music21.stream.Voice 2>, <music21.stream.Voice 3>] in m. 92\n",
      "  warnings.warn(\n",
      "/Users/taylorakin/.virtualenvs/IW/lib/python3.8/site-packages/music21/musicxml/xmlToM21.py:4598: MusicXMLWarning: Current voices: [<music21.stream.Voice 2>, <music21.stream.Voice 3>] in m. 96\n",
      "  warnings.warn(\n",
      "/Users/taylorakin/.virtualenvs/IW/lib/python3.8/site-packages/music21/musicxml/xmlToM21.py:4598: MusicXMLWarning: Current voices: [<music21.stream.Voice 2>, <music21.stream.Voice 3>] in m. 98\n",
      "  warnings.warn(\n",
      "/Users/taylorakin/.virtualenvs/IW/lib/python3.8/site-packages/music21/musicxml/xmlToM21.py:4598: MusicXMLWarning: Current voices: [<music21.stream.Voice 2>, <music21.stream.Voice 3>] in m. 99\n",
      "  warnings.warn(\n",
      "/Users/taylorakin/.virtualenvs/IW/lib/python3.8/site-packages/music21/musicxml/xmlToM21.py:4595: MusicXMLWarning: Current voiceIds: ['1', '3']\n",
      "  warnings.warn(\n",
      "/Users/taylorakin/.virtualenvs/IW/lib/python3.8/site-packages/music21/musicxml/xmlToM21.py:4598: MusicXMLWarning: Current voices: [<music21.stream.Voice 1>, <music21.stream.Voice 3>] in m. 101\n",
      "  warnings.warn(\n",
      "/Users/taylorakin/.virtualenvs/IW/lib/python3.8/site-packages/music21/musicxml/xmlToM21.py:4598: MusicXMLWarning: Current voices: [<music21.stream.Voice 1>, <music21.stream.Voice 3>] in m. 117\n",
      "  warnings.warn(\n",
      "/Users/taylorakin/.virtualenvs/IW/lib/python3.8/site-packages/music21/musicxml/xmlToM21.py:4598: MusicXMLWarning: Current voices: [<music21.stream.Voice 1>, <music21.stream.Voice 3>] in m. 118\n",
      "  warnings.warn(\n",
      "/Users/taylorakin/.virtualenvs/IW/lib/python3.8/site-packages/music21/musicxml/xmlToM21.py:4595: MusicXMLWarning: Current voiceIds: ['1', '2']\n",
      "  warnings.warn(\n",
      "/Users/taylorakin/.virtualenvs/IW/lib/python3.8/site-packages/music21/musicxml/xmlToM21.py:4598: MusicXMLWarning: Current voices: [<music21.stream.Voice 1>, <music21.stream.Voice 2>] in m. 128\n",
      "  warnings.warn(\n",
      "/Users/taylorakin/.virtualenvs/IW/lib/python3.8/site-packages/music21/musicxml/xmlToM21.py:4598: MusicXMLWarning: Current voices: [<music21.stream.Voice 1>, <music21.stream.Voice 2>] in m. 130\n",
      "  warnings.warn(\n",
      "/Users/taylorakin/.virtualenvs/IW/lib/python3.8/site-packages/music21/musicxml/xmlToM21.py:4598: MusicXMLWarning: Current voices: [<music21.stream.Voice 1>, <music21.stream.Voice 3>, <music21.stream.Voice 4>] in m. 133\n",
      "  warnings.warn(\n",
      "/Users/taylorakin/.virtualenvs/IW/lib/python3.8/site-packages/music21/musicxml/xmlToM21.py:4595: MusicXMLWarning: Current voiceIds: ['1', '4']\n",
      "  warnings.warn(\n",
      "/Users/taylorakin/.virtualenvs/IW/lib/python3.8/site-packages/music21/musicxml/xmlToM21.py:4598: MusicXMLWarning: Current voices: [<music21.stream.Voice 1>, <music21.stream.Voice 4>] in m. 135\n",
      "  warnings.warn(\n"
     ]
    },
    {
     "name": "stdout",
     "output_type": "stream",
     "text": [
      "-----------------------------------------------------\n",
      "../music/xml/musicalion/beethoven_symphony_5_mvt_2.musicxml\n",
      "-----------------------------------------------------\n",
      "../music/xml/musicalion/beethoven_symphony_5_mvt_3.xml\n",
      "-----------------------------------------------------\n",
      "../music/xml/musicalion/beethoven_symphony_6_mvt_4.musicxml\n",
      "Error parsing file: beethoven_symphony_6_mvt_4.musicxml\n",
      "-----------------------------------------------------\n",
      "../music/xml/musicalion/beethoven_symphony_6_mvt_5.musicxml\n",
      "-----------------------------------------------------\n",
      "../music/xml/musicalion/beethoven_symphony_5_mvt_4.xml\n",
      "-----------------------------------------------------\n",
      "../music/xml/musicalion/mozart_concerto_horn_mvt_1.xml\n",
      "-----------------------------------------------------\n",
      "../music/xml/musicalion/mozart_concerto_piano_21_mvt_2.xml\n"
     ]
    },
    {
     "name": "stderr",
     "output_type": "stream",
     "text": [
      "/Users/taylorakin/.virtualenvs/IW/lib/python3.8/site-packages/music21/musicxml/xmlToM21.py:4598: MusicXMLWarning: Current voices: [<music21.stream.Voice 1>, <music21.stream.Voice 2>] in m. 35\n",
      "  warnings.warn(\n",
      "/Users/taylorakin/.virtualenvs/IW/lib/python3.8/site-packages/music21/musicxml/xmlToM21.py:4598: MusicXMLWarning: Current voices: [<music21.stream.Voice 1>, <music21.stream.Voice 2>] in m. 60\n",
      "  warnings.warn(\n",
      "/Users/taylorakin/.virtualenvs/IW/lib/python3.8/site-packages/music21/musicxml/xmlToM21.py:4598: MusicXMLWarning: Current voices: [<music21.stream.Voice 1>, <music21.stream.Voice 2>] in m. 62\n",
      "  warnings.warn(\n",
      "/Users/taylorakin/.virtualenvs/IW/lib/python3.8/site-packages/music21/musicxml/xmlToM21.py:4598: MusicXMLWarning: Current voices: [<music21.stream.Voice 1>, <music21.stream.Voice 3>] in m. 67\n",
      "  warnings.warn(\n",
      "/Users/taylorakin/.virtualenvs/IW/lib/python3.8/site-packages/music21/musicxml/xmlToM21.py:4598: MusicXMLWarning: Current voices: [<music21.stream.Voice 1>, <music21.stream.Voice 3>] in m. 68\n",
      "  warnings.warn(\n",
      "/Users/taylorakin/.virtualenvs/IW/lib/python3.8/site-packages/music21/musicxml/xmlToM21.py:4598: MusicXMLWarning: Current voices: [<music21.stream.Voice 1>, <music21.stream.Voice 3>] in m. 69\n",
      "  warnings.warn(\n",
      "/Users/taylorakin/.virtualenvs/IW/lib/python3.8/site-packages/music21/musicxml/xmlToM21.py:4598: MusicXMLWarning: Current voices: [<music21.stream.Voice 1>, <music21.stream.Voice 3>] in m. 82\n",
      "  warnings.warn(\n",
      "/Users/taylorakin/.virtualenvs/IW/lib/python3.8/site-packages/music21/musicxml/xmlToM21.py:4598: MusicXMLWarning: Current voices: [<music21.stream.Voice 1>, <music21.stream.Voice 3>] in m. 83\n",
      "  warnings.warn(\n",
      "/Users/taylorakin/.virtualenvs/IW/lib/python3.8/site-packages/music21/musicxml/xmlToM21.py:4598: MusicXMLWarning: Current voices: [<music21.stream.Voice 1>, <music21.stream.Voice 3>] in m. 84\n",
      "  warnings.warn(\n",
      "/Users/taylorakin/.virtualenvs/IW/lib/python3.8/site-packages/music21/musicxml/xmlToM21.py:4598: MusicXMLWarning: Current voices: [<music21.stream.Voice 1>, <music21.stream.Voice 3>] in m. 85\n",
      "  warnings.warn(\n",
      "/Users/taylorakin/.virtualenvs/IW/lib/python3.8/site-packages/music21/musicxml/xmlToM21.py:4598: MusicXMLWarning: Current voices: [<music21.stream.Voice 1>, <music21.stream.Voice 3>] in m. 86\n",
      "  warnings.warn(\n",
      "/Users/taylorakin/.virtualenvs/IW/lib/python3.8/site-packages/music21/musicxml/xmlToM21.py:4598: MusicXMLWarning: Current voices: [<music21.stream.Voice 1>, <music21.stream.Voice 3>] in m. 87\n",
      "  warnings.warn(\n",
      "/Users/taylorakin/.virtualenvs/IW/lib/python3.8/site-packages/music21/musicxml/xmlToM21.py:4598: MusicXMLWarning: Current voices: [<music21.stream.Voice 1>, <music21.stream.Voice 3>] in m. 88\n",
      "  warnings.warn(\n",
      "/Users/taylorakin/.virtualenvs/IW/lib/python3.8/site-packages/music21/musicxml/xmlToM21.py:4598: MusicXMLWarning: Current voices: [<music21.stream.Voice 1>, <music21.stream.Voice 3>] in m. 92\n",
      "  warnings.warn(\n",
      "/Users/taylorakin/.virtualenvs/IW/lib/python3.8/site-packages/music21/musicxml/xmlToM21.py:4598: MusicXMLWarning: Current voices: [<music21.stream.Voice 1>, <music21.stream.Voice 3>] in m. 93\n",
      "  warnings.warn(\n",
      "/Users/taylorakin/.virtualenvs/IW/lib/python3.8/site-packages/music21/musicxml/xmlToM21.py:4598: MusicXMLWarning: Current voices: [<music21.stream.Voice 1>, <music21.stream.Voice 2>] in m. 95\n",
      "  warnings.warn(\n",
      "/Users/taylorakin/.virtualenvs/IW/lib/python3.8/site-packages/music21/musicxml/xmlToM21.py:4598: MusicXMLWarning: Current voices: [<music21.stream.Voice 1>, <music21.stream.Voice 3>] in m. 100\n",
      "  warnings.warn(\n"
     ]
    },
    {
     "name": "stdout",
     "output_type": "stream",
     "text": [
      "-----------------------------------------------------\n",
      "../music/xml/musicalion/mozart_concerto_clarinet_mvt_3.musicxml\n",
      "-----------------------------------------------------\n",
      "../music/xml/musicalion/beethoven_symphony_6_mvt_3.musicxml\n",
      "-----------------------------------------------------\n",
      "../music/xml/musicalion/beethoven_romance_f_major_op50.xml\n",
      "-----------------------------------------------------\n",
      "../music/xml/musicalion/beethoven_egmont.musicxml\n"
     ]
    },
    {
     "name": "stderr",
     "output_type": "stream",
     "text": [
      "/Users/taylorakin/.virtualenvs/IW/lib/python3.8/site-packages/music21/musicxml/xmlToM21.py:3972: MusicXMLWarning: Line <bracket> stop without start\n",
      "  warnings.warn('Line <' + mxObj.tag + '> stop without start', MusicXMLWarning)\n",
      "/Users/taylorakin/.virtualenvs/IW/lib/python3.8/site-packages/music21/musicxml/xmlToM21.py:4598: MusicXMLWarning: Current voices: [<music21.stream.Voice 1>, <music21.stream.Voice 3>] in m. 324\n",
      "  warnings.warn(\n",
      "/Users/taylorakin/.virtualenvs/IW/lib/python3.8/site-packages/music21/musicxml/xmlToM21.py:4598: MusicXMLWarning: Current voices: [<music21.stream.Voice 1>, <music21.stream.Voice 3>] in m. 325\n",
      "  warnings.warn(\n",
      "/Users/taylorakin/.virtualenvs/IW/lib/python3.8/site-packages/music21/musicxml/xmlToM21.py:4598: MusicXMLWarning: Current voices: [<music21.stream.Voice 1>, <music21.stream.Voice 3>] in m. 326\n",
      "  warnings.warn(\n"
     ]
    },
    {
     "name": "stdout",
     "output_type": "stream",
     "text": [
      "-----------------------------------------------------\n",
      "../music/xml/musicalion/mozart_concerto_piano_20_mvt_3.musicxml\n",
      "-----------------------------------------------------\n",
      "../music/xml/musicalion/mozart_concerto_clarinet_mvt_2.xml\n",
      "-----------------------------------------------------\n",
      "../music/xml/musicalion/beethoven_symphony_5_mvt_1.musicxml\n",
      "-----------------------------------------------------\n",
      "../music/xml/musicalion/mozart_concerto_piano_20_mvt_1.musicxml\n",
      "-----------------------------------------------------\n",
      "../music/xml/musicalion/mozart_symphony_g_minor_mvt_1.xml\n",
      "-----------------------------------------------------\n",
      "../music/xml/musicalion/beethoven_symphony_6_mvt_1.xml\n",
      "Error parsing file: beethoven_symphony_6_mvt_1.xml\n",
      "-----------------------------------------------------\n",
      "../music/xml/musicalion/tchaikovsky_ballet_nutcracker.xml\n"
     ]
    },
    {
     "name": "stderr",
     "output_type": "stream",
     "text": [
      "/Users/taylorakin/.virtualenvs/IW/lib/python3.8/site-packages/music21/musicxml/xmlToM21.py:4598: MusicXMLWarning: Current voices: [<music21.stream.Voice 1>, <music21.stream.Voice 3>] in m. 33\n",
      "  warnings.warn(\n",
      "/Users/taylorakin/.virtualenvs/IW/lib/python3.8/site-packages/music21/musicxml/xmlToM21.py:4598: MusicXMLWarning: Current voices: [<music21.stream.Voice 1>, <music21.stream.Voice 3>] in m. 34\n",
      "  warnings.warn(\n",
      "/Users/taylorakin/.virtualenvs/IW/lib/python3.8/site-packages/music21/musicxml/xmlToM21.py:4598: MusicXMLWarning: Current voices: [<music21.stream.Voice 1>, <music21.stream.Voice 3>] in m. 35\n",
      "  warnings.warn(\n",
      "/Users/taylorakin/.virtualenvs/IW/lib/python3.8/site-packages/music21/musicxml/xmlToM21.py:4598: MusicXMLWarning: Current voices: [<music21.stream.Voice 1>, <music21.stream.Voice 3>] in m. 36\n",
      "  warnings.warn(\n"
     ]
    },
    {
     "name": "stdout",
     "output_type": "stream",
     "text": [
      "-----------------------------------------------------\n",
      "../music/xml/musicalion/mozart_concerto_bassoon_mvt_2.xml\n",
      "-----------------------------------------------------\n",
      "../music/xml/musicalion/mozart_concerto_bassoon_mvt_3.xml\n",
      "-----------------------------------------------------\n",
      "../music/xml/musicalion/mozart_concerto_horn_mvt_3.musicxml\n"
     ]
    },
    {
     "name": "stderr",
     "output_type": "stream",
     "text": [
      "/Users/taylorakin/.virtualenvs/IW/lib/python3.8/site-packages/music21/musicxml/xmlToM21.py:4595: MusicXMLWarning: Current voiceIds: ['1', '2', '4', '5', '6']\n",
      "  warnings.warn(\n",
      "/Users/taylorakin/.virtualenvs/IW/lib/python3.8/site-packages/music21/musicxml/xmlToM21.py:4598: MusicXMLWarning: Current voices: [<music21.stream.Voice 1>, <music21.stream.Voice 2>, <music21.stream.Voice 4>, <music21.stream.Voice 5>, <music21.stream.Voice 6>] in m. 202\n",
      "  warnings.warn(\n"
     ]
    },
    {
     "name": "stdout",
     "output_type": "stream",
     "text": [
      "-----------------------------------------------------\n",
      "../music/xml/musicalion/mozart_concerto_bassoon_mvt_1.xml\n",
      "-----------------------------------------------------\n",
      "../music/xml/musicalion/mozart_concerto_clarinet_mvt_1.musicxml\n",
      "-----------------------------------------------------\n",
      "../music/xml/musicalion/mozart_concerto_piano_21_mvt_1.musicxml\n"
     ]
    },
    {
     "name": "stderr",
     "output_type": "stream",
     "text": [
      "/Users/taylorakin/.virtualenvs/IW/lib/python3.8/site-packages/music21/musicxml/xmlToM21.py:4598: MusicXMLWarning: Current voices: [<music21.stream.Voice 1>, <music21.stream.Voice 3>] in m. 332\n",
      "  warnings.warn(\n",
      "/Users/taylorakin/.virtualenvs/IW/lib/python3.8/site-packages/music21/musicxml/xmlToM21.py:4598: MusicXMLWarning: Current voices: [<music21.stream.Voice 1>, <music21.stream.Voice 3>] in m. 333\n",
      "  warnings.warn(\n",
      "/Users/taylorakin/.virtualenvs/IW/lib/python3.8/site-packages/music21/musicxml/xmlToM21.py:4598: MusicXMLWarning: Current voices: [<music21.stream.Voice 1>, <music21.stream.Voice 3>] in m. 334\n",
      "  warnings.warn(\n",
      "/Users/taylorakin/.virtualenvs/IW/lib/python3.8/site-packages/music21/musicxml/xmlToM21.py:4598: MusicXMLWarning: Current voices: [<music21.stream.Voice 1>, <music21.stream.Voice 3>] in m. 335\n",
      "  warnings.warn(\n",
      "/Users/taylorakin/.virtualenvs/IW/lib/python3.8/site-packages/music21/musicxml/xmlToM21.py:4598: MusicXMLWarning: Current voices: [<music21.stream.Voice 1>, <music21.stream.Voice 3>] in m. 336\n",
      "  warnings.warn(\n"
     ]
    },
    {
     "name": "stdout",
     "output_type": "stream",
     "text": [
      "-----------------------------------------------------\n",
      "Good: 23\n",
      "Bad: 2\n"
     ]
    }
   ],
   "source": [
    "# Validate all of scores in the musicalion directory\n",
    "# assign directory\n",
    "count_good = 0\n",
    "count_bad = 0\n",
    "directory = '../music/xml/musicalion/'\n",
    "# iterate through all the midi files in the directory\n",
    "for filename in os.listdir(directory):\n",
    "    if filename == \".DS_Store\":\n",
    "        continue\n",
    "    try:\n",
    "        f = os.path.join(directory, filename)\n",
    "        # checking if it is a file\n",
    "        if os.path.isfile(f):\n",
    "            print(f)\n",
    "            score = music21.converter.parse(f)\n",
    "            count_good += 1\n",
    "    except:\n",
    "        print(\"Error parsing file: \" + filename)\n",
    "        count_bad += 1\n",
    "    print(\"-----------------------------------------------------\")\n",
    "print(\"Good: \" + str(count_good))\n",
    "print(\"Bad: \" + str(count_bad))"
   ]
  },
  {
   "cell_type": "code",
   "execution_count": 15,
   "metadata": {},
   "outputs": [],
   "source": [
    "def is_bassoon_name(candidate):\n",
    "    candidate_parts = candidate.split(\" \")\n",
    "    bsn_names = [\"bassoon\", \"fagotti\", \"basson\", \"fagott\", \"fagotto\", \"fagot\", \"fagote\", \"dulcian\"]\n",
    "    for name in bsn_names:\n",
    "        for part in candidate_parts:\n",
    "            if part == name:\n",
    "                return True\n",
    "    return False"
   ]
  },
  {
   "cell_type": "code",
   "execution_count": 55,
   "metadata": {},
   "outputs": [
    {
     "name": "stderr",
     "output_type": "stream",
     "text": [
      "/var/folders/67/z2c_5yw12tbcjdhcbfkqwg0c0000gn/T/ipykernel_5600/2420026932.py:18: UserWarning: \n",
      "Used Midi fallback detection (Midi_71)\n",
      "Actual Part Name: P3: Midi_71\n",
      "  warnings.warn(\"\\nUsed Midi fallback detection (Midi_71)\\nActual Part Name: {}\".format(part_name))\n"
     ]
    }
   ],
   "source": [
    "# find bassoon part in music21 score\n",
    "import warnings\n",
    "\n",
    "\n",
    "bsn_part = None\n",
    "for part in score.parts:\n",
    "    # print(part)\n",
    "    # print(part.getInstrument().instrumentName)\n",
    "    # print(part.getInstrument())\n",
    "    # if is_bassoon_name(part.partName.lower()):\n",
    "    instrument_name = part.getInstrument().instrumentName\n",
    "    if instrument_name == \"Bassoon\":\n",
    "        print(part.partName)\n",
    "        bsn_part = part\n",
    "        break\n",
    "    if instrument_name == \"Midi_71\":\n",
    "        part_name = part.getInstrument()\n",
    "        warnings.warn(\"\\nUsed Midi fallback detection (Midi_71)\\nActual Part Name: {}\".format(part_name))\n",
    "        bsn_part = part\n",
    "        break\n",
    "\n",
    "if bsn_part == None:\n",
    "    raise Exception(\"Bassoon part not found\")"
   ]
  },
  {
   "cell_type": "code",
   "execution_count": 57,
   "metadata": {},
   "outputs": [],
   "source": [
    "bsn_part.show('musicXML')\n",
    "# bsn_part.show()"
   ]
  },
  {
   "cell_type": "code",
   "execution_count": null,
   "metadata": {},
   "outputs": [],
   "source": [
    "excerpt = bsn_part.measures(0, 30)\n",
    "# excerpt.show()\n",
    "for note in excerpt.flat:\n",
    "    print(note.next)"
   ]
  },
  {
   "cell_type": "code",
   "execution_count": 45,
   "metadata": {},
   "outputs": [],
   "source": [
    "# adds a note to a dict if not in it, increments if is in it\n",
    "def note_record(note, notes):\n",
    "    if note.nameWithOctave in notes:\n",
    "        notes[note.nameWithOctave] += 1\n",
    "        # notes[note.pitch] += 1\n",
    "    else:\n",
    "        notes[note.nameWithOctave] = 1\n",
    "        # notes[note.pitch] = 1\n",
    "\n",
    "# def note_record(note):\n",
    "#     if note.pitch in notes_dict:\n",
    "#         notes_dict[note.pitch] += 1\n",
    "#     else:\n",
    "#         notes_dict[note.pitch] = 1\n",
    "        # if note.nameWithOctave == 'F#2':\n",
    "        #     pprint(note.__dict__)\n",
    "\n",
    "def inc_accidental(note, num):\n",
    "    # check if it's in the key\n",
    "    if note.pitch.accidental is not None:\n",
    "        return num + 1\n",
    "    return num\n"
   ]
  },
  {
   "cell_type": "code",
   "execution_count": 46,
   "metadata": {},
   "outputs": [
    {
     "name": "stdout",
     "output_type": "stream",
     "text": [
      "Number of accidentals: 0\n",
      "-------------- Bassoon 1 --------------\n",
      "{'A-2': 17,\n",
      " 'A-3': 22,\n",
      " 'A-4': 3,\n",
      " 'A2': 5,\n",
      " 'A3': 32,\n",
      " 'A4': 21,\n",
      " 'B-2': 26,\n",
      " 'B-3': 58,\n",
      " 'B2': 1,\n",
      " 'B3': 7,\n",
      " 'C#4': 4,\n",
      " 'C2': 4,\n",
      " 'C3': 29,\n",
      " 'C4': 91,\n",
      " 'D-4': 71,\n",
      " 'D3': 2,\n",
      " 'D4': 17,\n",
      " 'E-3': 3,\n",
      " 'E-4': 27,\n",
      " 'E3': 3,\n",
      " 'E4': 12,\n",
      " 'F#3': 2,\n",
      " 'F#4': 5,\n",
      " 'F2': 42,\n",
      " 'F3': 39,\n",
      " 'F4': 45,\n",
      " 'G#3': 2,\n",
      " 'G-3': 3,\n",
      " 'G-4': 5,\n",
      " 'G2': 6,\n",
      " 'G3': 24,\n",
      " 'G4': 50}\n",
      "-------------- Bassoon 2 --------------\n",
      "{'A-2': 18,\n",
      " 'A-3': 42,\n",
      " 'A2': 5,\n",
      " 'A3': 48,\n",
      " 'A4': 5,\n",
      " 'B-2': 29,\n",
      " 'B-3': 36,\n",
      " 'B2': 1,\n",
      " 'B3': 5,\n",
      " 'C#3': 3,\n",
      " 'C#4': 2,\n",
      " 'C2': 18,\n",
      " 'C3': 17,\n",
      " 'C4': 76,\n",
      " 'D-3': 17,\n",
      " 'D-4': 33,\n",
      " 'D3': 6,\n",
      " 'D4': 10,\n",
      " 'E-2': 1,\n",
      " 'E-3': 12,\n",
      " 'E-4': 24,\n",
      " 'E3': 12,\n",
      " 'E4': 26,\n",
      " 'F#3': 7,\n",
      " 'F#4': 4,\n",
      " 'F-3': 1,\n",
      " 'F2': 57,\n",
      " 'F3': 40,\n",
      " 'F4': 38,\n",
      " 'G#3': 2,\n",
      " 'G-3': 10,\n",
      " 'G-4': 2,\n",
      " 'G2': 6,\n",
      " 'G3': 56,\n",
      " 'G4': 9}\n"
     ]
    }
   ],
   "source": [
    "# Go through score and record the number of occurrences of each note\n",
    "notes_dict_bassoon_1 = {}\n",
    "note_pairs_dict_b1 = {}\n",
    "notes_dict_bassoon_2 = {}\n",
    "note_pairs_dict_b2 = {}\n",
    "num_accidentals = 0\n",
    "# fsharp = music21.note.Note('F#2')\n",
    "\n",
    "for el in bsn_part.recurse().notes:\n",
    "    if type(el)== music21.chord.Chord:\n",
    "        sortedNotes = el.sortAscending()\n",
    "        note_record(sortedNotes[0], notes_dict_bassoon_2)\n",
    "        note_record(sortedNotes[1], notes_dict_bassoon_1)\n",
    "        # for note in el.notes:\n",
    "        #     note_record(note)\n",
    "        #     num_accidentals = inc_accidental(note, num_accidentals)\n",
    "                \n",
    "    else:\n",
    "        note_record(el, notes_dict_bassoon_2)\n",
    "        note_record(el, notes_dict_bassoon_1)\n",
    "        # note_record(el)\n",
    "        # num_accidentals = inc_accidental(el, num_accidentals)\n",
    "\n",
    "print(\"Number of accidentals:\", num_accidentals) # I think this is wrong\n",
    "print(\"-------------- Bassoon 1 --------------\")\n",
    "pprint(notes_dict_bassoon_1)\n",
    "print(\"-------------- Bassoon 2 --------------\")\n",
    "pprint(notes_dict_bassoon_2)"
   ]
  }
 ],
 "metadata": {
  "kernelspec": {
   "display_name": "Python 3.8.10 ('IW')",
   "language": "python",
   "name": "python3"
  },
  "language_info": {
   "codemirror_mode": {
    "name": "ipython",
    "version": 3
   },
   "file_extension": ".py",
   "mimetype": "text/x-python",
   "name": "python",
   "nbconvert_exporter": "python",
   "pygments_lexer": "ipython3",
   "version": "3.8.10"
  },
  "orig_nbformat": 4,
  "vscode": {
   "interpreter": {
    "hash": "70429761e44c28a9945b68adb1c5f17ad23b6bc91f93bce4fb1a18e6cfb62405"
   }
  }
 },
 "nbformat": 4,
 "nbformat_minor": 2
}
