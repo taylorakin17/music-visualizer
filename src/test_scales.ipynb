{
 "cells": [
  {
   "cell_type": "markdown",
   "metadata": {},
   "source": [
    "Citations\n",
    "https://web.library.yale.edu/cataloging/music/instname"
   ]
  },
  {
   "cell_type": "code",
   "execution_count": 30,
   "metadata": {},
   "outputs": [],
   "source": [
    "from posixpath import split\n",
    "import music21\n",
    "from music21 import corpus, instrument, tinyNotation\n",
    "from note_pair import NotePair\n",
    "from statistics import mean\n",
    "import pretty_midi\n",
    "import mido\n",
    "from mido import MidiFile\n",
    "from pprint import pprint"
   ]
  },
  {
   "cell_type": "markdown",
   "metadata": {},
   "source": [
    "## music21 Exploration"
   ]
  },
  {
   "cell_type": "markdown",
   "metadata": {},
   "source": [
    "### Setup"
   ]
  },
  {
   "cell_type": "code",
   "execution_count": 31,
   "metadata": {},
   "outputs": [],
   "source": [
    "# score = music21.converter.parse('symphony_4_1.mid')\n",
    "score = music21.converter.parse('Arpeggio B.mid')\n",
    "bsn_names = \"bassoon fagotti basson fagott fagotto fagot fagote dulcian\""
   ]
  },
  {
   "cell_type": "code",
   "execution_count": 32,
   "metadata": {},
   "outputs": [],
   "source": [
    "# find which part is the bassoon part\n",
    "for idx, part in enumerate(score):\n",
    "    if part.partName.lower() in bsn_names:\n",
    "        break\n",
    "\n",
    "bsn_part = score.parts[idx]"
   ]
  },
  {
   "cell_type": "markdown",
   "metadata": {},
   "source": [
    "### Part extraction"
   ]
  },
  {
   "cell_type": "markdown",
   "metadata": {},
   "source": [
    "### Counting the occurrence of each note"
   ]
  },
  {
   "cell_type": "code",
   "execution_count": 33,
   "metadata": {},
   "outputs": [],
   "source": [
    "# adds a note to a dict if not in it, increments if is in it\n",
    "def note_record(note, notes):\n",
    "    if note.pitch.midi in notes:\n",
    "        # notes[note.nameWithOctave] += 1\n",
    "        notes[note.pitch.midi] += 1\n",
    "    else:\n",
    "        # notes[note.nameWithOctave] = 1\n",
    "        notes[note.pitch.midi] = 1\n",
    "\n",
    "def inc_accidental(note, num):\n",
    "    # check if it's in the key\n",
    "    if note.pitch.accidental is not None:\n",
    "        return num + 1\n",
    "    return num\n"
   ]
  },
  {
   "cell_type": "code",
   "execution_count": 34,
   "metadata": {},
   "outputs": [
    {
     "name": "stdout",
     "output_type": "stream",
     "text": [
      "Technical difficulty: 92.00\n"
     ]
    }
   ],
   "source": [
    "# Go through score and record the number of occurrences of each note\n",
    "notes_dict_bassoon_1 = {}\n",
    "note_pairs_b1 = []\n",
    "num_accidentals = 0\n",
    "prev = None\n",
    "for el in bsn_part.recurse().notes:\n",
    "    # note_record(el, notes_dict_bassoon_1)\n",
    "    if prev != None:\n",
    "        note_pairs_b1.append(NotePair(prev.pitch.midi, el.pitch.midi))\n",
    "    prev = el\n",
    "\n",
    "technical_difficulty = []\n",
    "for pair in note_pairs_b1:\n",
    "    technical_difficulty.append(pair.difficulty)\n",
    "\n",
    "td = \"{:.2f}\".format(sum(technical_difficulty))\n",
    "\n",
    "print(\"Technical difficulty:\", td)\n",
    "# print(\"Number of accidentals:\", num_accidentals) # I think this is wrong\n",
    "# print(\"-------------- Bassoon 1 --------------\")\n",
    "# pprint(notes_dict_bassoon_1)\n"
   ]
  },
  {
   "cell_type": "markdown",
   "metadata": {},
   "source": [
    "### Next Adventure"
   ]
  },
  {
   "cell_type": "code",
   "execution_count": 15,
   "metadata": {},
   "outputs": [
    {
     "name": "stdout",
     "output_type": "stream",
     "text": [
      "C major\n"
     ]
    }
   ],
   "source": [
    "excerpt = bsn_part.measures(15, 25) # breaks at 20, maybe because of the C#?\n",
    "# for measure in excerpt:\n",
    "#     print(measure)\n",
    "    # for note in measure:\n",
    "    #     print(note)\n",
    "# for el in excerpt.recurse().notes:\n",
    "#     for note in el.notes:\n",
    "#         if note.pitch.accidental is not None:\n",
    "#             print(note)\n",
    "\n",
    "for key in bsn_part[music21.key.Key]:\n",
    "    ks = key\n",
    "print(ks)\n",
    "# ks = music21.key.KeySignature(key)\n",
    "for el in excerpt.recurse().notes:\n",
    "    if type(el)== music21.chord.Chord:\n",
    "        for note in el.notes:\n",
    "            # print(note)\n",
    "            if note in ks.alteredPitches:\n",
    "                print(note)\n",
    "    else: \n",
    "        # print(note)\n",
    "        # https://web.mit.edu/music21/doc/moduleReference/moduleKey.html\n",
    "        if note in ks.alteredPitches:\n",
    "            print(note)"
   ]
  },
  {
   "cell_type": "markdown",
   "metadata": {},
   "source": [
    "### Revealing Time Signatures and Key Signature throughout the Piece"
   ]
  },
  {
   "cell_type": "code",
   "execution_count": 16,
   "metadata": {},
   "outputs": [
    {
     "name": "stdout",
     "output_type": "stream",
     "text": [
      "4/4\n",
      "C major\n",
      "Note: C2 1.0\n",
      "Note: D2 1.0\n",
      "Note: E2 1.0\n",
      "Note: F2 1.0\n",
      "Note: G2 1.0\n",
      "Note: A2 1.0\n",
      "Note: B2 1.0\n",
      "Note: C3 1.0\n",
      "Note: D3 1.0\n",
      "Note: E3 1.0\n",
      "Note: F3 1.0\n",
      "Note: G3 1.0\n",
      "Note: A3 1.0\n",
      "Note: B3 1.0\n",
      "Note: C4 1.0\n",
      "Note: D4 1.0\n",
      "Note: E4 1.0\n",
      "Note: F4 1.0\n",
      "Note: G4 1.0\n",
      "Note: A4 1.0\n",
      "Note: B4 1.0\n",
      "Note: C5 1.0\n",
      "Note: C5 1.0\n",
      "Note: B4 1.0\n",
      "Note: A4 1.0\n",
      "Note: G4 1.0\n",
      "Note: F4 1.0\n",
      "Note: E4 1.0\n",
      "Note: D4 1.0\n",
      "Note: C4 1.0\n",
      "Note: B3 1.0\n",
      "Note: A3 1.0\n",
      "Note: G3 1.0\n",
      "Note: F3 1.0\n",
      "Note: E3 1.0\n",
      "Note: D3 1.0\n",
      "Note: C3 1.0\n",
      "Note: B2 1.0\n",
      "Note: A2 1.0\n",
      "Note: G2 1.0\n",
      "Note: F2 1.0\n",
      "Note: E2 1.0\n",
      "Note: D2 1.0\n",
      "Note: C2 1.0\n"
     ]
    }
   ],
   "source": [
    "prev_time_signature = \"\"\n",
    "for measure in bsn_part[music21.meter.TimeSignature]:\n",
    "    print(measure.ratioString)\n",
    "\n",
    "    # if prev_time_signature != measure.ratioString:\n",
    "    #     print(measure.ratioString)\n",
    "    #     prev_time_signature = measure.ratioString\n",
    "\n",
    "prev_key_signature = \"\"\n",
    "for key in bsn_part[music21.key.Key]:\n",
    "    print(key)\n",
    "    # if prev_key_signature != key:\n",
    "    #     print(key)\n",
    "    #     prev_key_signature = key\n",
    "\n",
    "# for measure in bsn_part.recurse():\n",
    "#     print(measure)\n",
    "#     ts = measure[music21.meter.TimeSignature][0].ratioString\n",
    "#     if prev_time_signature != ts:\n",
    "#         ks = measure[music21.key.Key]\n",
    "#         print(str(measure.number) + \":\", ts, ks)\n",
    "#         measure.show()\n",
    "#         prev_time_signature = ts\n",
    "\n",
    "# print(excerpt[music21.meter.TimeSignature][0].__dict__)\n",
    "\n",
    "# Print notes and their duration in sequence (should figure out how to index into a chord)\n",
    "for n in bsn_part.flat.notes:\n",
    "    if type(n)!= music21.chord.Chord:\n",
    "        print(\"Note: %s%d %0.1f\" % (n.pitch.name, n.pitch.octave, n.duration.quarterLength))"
   ]
  }
 ],
 "metadata": {
  "interpreter": {
   "hash": "70429761e44c28a9945b68adb1c5f17ad23b6bc91f93bce4fb1a18e6cfb62405"
  },
  "kernelspec": {
   "display_name": "Python 3.8.10 ('IW')",
   "language": "python",
   "name": "python3"
  },
  "language_info": {
   "codemirror_mode": {
    "name": "ipython",
    "version": 3
   },
   "file_extension": ".py",
   "mimetype": "text/x-python",
   "name": "python",
   "nbconvert_exporter": "python",
   "pygments_lexer": "ipython3",
   "version": "3.8.10"
  },
  "orig_nbformat": 4
 },
 "nbformat": 4,
 "nbformat_minor": 2
}
